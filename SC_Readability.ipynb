{
 "cells": [
  {
   "cell_type": "code",
   "execution_count": 3,
   "metadata": {},
   "outputs": [],
   "source": [
    "import nltk\n",
    "import textstat as tx\n",
    "import numpy as np\n",
    "import xlsxwriter\n",
    "import pandas as pd\n",
    "import PyPDF2\n",
    "import re"
   ]
  },
  {
   "cell_type": "code",
   "execution_count": null,
   "metadata": {},
   "outputs": [],
   "source": [
    "# Save the standard as a pdf and put it in the same directory as the notebook. Change the name from test.pdf to standardName.pdf\n",
    "# e.g, ASMEY14.pdf\n",
    "file = 'test.pdf'"
   ]
  },
  {
   "cell_type": "code",
   "execution_count": 4,
   "metadata": {},
   "outputs": [
    {
     "name": "stderr",
     "output_type": "stream",
     "text": [
      "[nltk_data] Downloading package punkt to\n",
      "[nltk_data]     C:\\Users\\mpb1\\AppData\\Roaming\\nltk_data...\n",
      "[nltk_data]   Package punkt is already up-to-date!\n"
     ]
    },
    {
     "data": {
      "text/plain": [
       "True"
      ]
     },
     "execution_count": 4,
     "metadata": {},
     "output_type": "execute_result"
    }
   ],
   "source": [
    "# This will split the pdf into sentences \n",
    "nltk.download('punkt')"
   ]
  },
  {
   "cell_type": "code",
   "execution_count": 5,
   "metadata": {},
   "outputs": [],
   "source": [
    "# Creates functions for readability scores \n",
    "# Documentation for the different scores can be found here: https://pypi.org/project/textstat/ \n",
    "def readability(df):\n",
    "   return df['sentence'].apply(tx.flesch_kincaid_grade)\n",
    "def readability2(df):\n",
    "    return df['sentence'].apply(tx.syllable_count)\n",
    "def readability3(df):\n",
    "    return df['sentence'].apply(tx.lexicon_count)\n",
    "def readability4(df):\n",
    "    return df['sentence'].apply(tx.automated_readability_index)\n",
    "def readability5(df):\n",
    "    return df['sentence'].apply(tx.gunning_fog)\n",
    "def readability6(df):\n",
    "    return df['sentence'].apply(tx.text_standard)"
   ]
  },
  {
   "cell_type": "code",
   "execution_count": 6,
   "metadata": {},
   "outputs": [],
   "source": [
    "# Function to convert pdf into a text document for analysis \n",
    "from pdfminer.pdfinterp import PDFResourceManager, PDFPageInterpreter\n",
    "from pdfminer.converter import TextConverter\n",
    "from pdfminer.layout import LAParams\n",
    "from pdfminer.pdfpage import PDFPage\n",
    "from io import StringIO\n",
    "\n",
    "def convert_pdf_to_txt(path):\n",
    "    rsrcmgr = PDFResourceManager()\n",
    "    retstr = StringIO()\n",
    "    codec = 'utf-8'\n",
    "    laparams = LAParams()\n",
    "    device = TextConverter(rsrcmgr, retstr, codec=codec, laparams=laparams)\n",
    "    fp = open(path, 'rb')\n",
    "    interpreter = PDFPageInterpreter(rsrcmgr, device)\n",
    "    password = \"\"\n",
    "    maxpages = 0\n",
    "    caching = True\n",
    "    pagenos=set()\n",
    "\n",
    "    for page in PDFPage.get_pages(fp, pagenos, maxpages=maxpages, password=password,caching=caching, check_extractable=True):\n",
    "        interpreter.process_page(page)\n",
    "\n",
    "    text = retstr.getvalue()\n",
    "\n",
    "    fp.close()\n",
    "    device.close()\n",
    "    retstr.close()\n",
    "    return text"
   ]
  },
  {
   "cell_type": "code",
   "execution_count": 7,
   "metadata": {},
   "outputs": [],
   "source": [
    "# This converts the pdf to text\n",
    "text = convert_pdf_to_txt(file)\n",
    "# This removes any special characters \\n and makes them spaces. \n",
    "text = text.replace('\\n','')"
   ]
  },
  {
   "cell_type": "code",
   "execution_count": 136,
   "metadata": {},
   "outputs": [],
   "source": [
    "# Creates a list of the sentences from the standard \n",
    "# Note this will not break it into each sentence, normally will be chunks of sentences. \n",
    "a_list = nltk.tokenize.sent_tokenize(text)"
   ]
  },
  {
   "cell_type": "code",
   "execution_count": 138,
   "metadata": {},
   "outputs": [],
   "source": [
    "# This creates a dataframe with the sentences and scores \n",
    "df2 = pd.DataFrame(data={'sentence': a_list}).assign(overall_score=readability6).assign(num_words=readability3).assign(num_syllab=readability2).assign(FK_score=readability).assign(ari_score=readability4).assign(fog_score=readability5)"
   ]
  },
  {
   "cell_type": "code",
   "execution_count": 139,
   "metadata": {},
   "outputs": [
    {
     "data": {
      "text/html": [
       "<div>\n",
       "<style scoped>\n",
       "    .dataframe tbody tr th:only-of-type {\n",
       "        vertical-align: middle;\n",
       "    }\n",
       "\n",
       "    .dataframe tbody tr th {\n",
       "        vertical-align: top;\n",
       "    }\n",
       "\n",
       "    .dataframe thead th {\n",
       "        text-align: right;\n",
       "    }\n",
       "</style>\n",
       "<table border=\"1\" class=\"dataframe\">\n",
       "  <thead>\n",
       "    <tr style=\"text-align: right;\">\n",
       "      <th></th>\n",
       "      <th>sentence</th>\n",
       "      <th>overall_score</th>\n",
       "      <th>num_words</th>\n",
       "      <th>num_syllab</th>\n",
       "      <th>FK_score</th>\n",
       "      <th>ari_score</th>\n",
       "      <th>fog_score</th>\n",
       "    </tr>\n",
       "  </thead>\n",
       "  <tbody>\n",
       "    <tr>\n",
       "      <th>0</th>\n",
       "      <td>INTERNATIONAL STANDARDISO20140-1First edition2...</td>\n",
       "      <td>-1th and 0th grade</td>\n",
       "      <td>53</td>\n",
       "      <td>123</td>\n",
       "      <td>32.2</td>\n",
       "      <td>41.5</td>\n",
       "      <td>35.54</td>\n",
       "    </tr>\n",
       "    <tr>\n",
       "      <th>1</th>\n",
       "      <td>ANSI order DA_330766.</td>\n",
       "      <td>9th and 10th grade</td>\n",
       "      <td>3</td>\n",
       "      <td>5</td>\n",
       "      <td>5.6</td>\n",
       "      <td>9.9</td>\n",
       "      <td>1.20</td>\n",
       "    </tr>\n",
       "    <tr>\n",
       "      <th>2</th>\n",
       "      <td>Downloaded 8/7/2013 2:24 PM.</td>\n",
       "      <td>7th and 8th grade</td>\n",
       "      <td>4</td>\n",
       "      <td>6</td>\n",
       "      <td>3.7</td>\n",
       "      <td>10.0</td>\n",
       "      <td>11.60</td>\n",
       "    </tr>\n",
       "    <tr>\n",
       "      <th>3</th>\n",
       "      <td>Single user license only.</td>\n",
       "      <td>11th and 12th grade</td>\n",
       "      <td>4</td>\n",
       "      <td>8</td>\n",
       "      <td>9.6</td>\n",
       "      <td>6.5</td>\n",
       "      <td>1.60</td>\n",
       "    </tr>\n",
       "    <tr>\n",
       "      <th>4</th>\n",
       "      <td>Copying and networking prohibited.© ISO 2013Re...</td>\n",
       "      <td>13th and 14th grade</td>\n",
       "      <td>17</td>\n",
       "      <td>33</td>\n",
       "      <td>13.5</td>\n",
       "      <td>26.7</td>\n",
       "      <td>18.56</td>\n",
       "    </tr>\n",
       "    <tr>\n",
       "      <th>...</th>\n",
       "      <td>...</td>\n",
       "      <td>...</td>\n",
       "      <td>...</td>\n",
       "      <td>...</td>\n",
       "      <td>...</td>\n",
       "      <td>...</td>\n",
       "      <td>...</td>\n",
       "    </tr>\n",
       "    <tr>\n",
       "      <th>368</th>\n",
       "      <td>ISO 20140-1:2013(E) ICS 25.040.01Price based o...</td>\n",
       "      <td>4th and 5th grade</td>\n",
       "      <td>18</td>\n",
       "      <td>20</td>\n",
       "      <td>4.4</td>\n",
       "      <td>13.8</td>\n",
       "      <td>9.42</td>\n",
       "    </tr>\n",
       "    <tr>\n",
       "      <th>369</th>\n",
       "      <td>ANSI order DA_330766.</td>\n",
       "      <td>9th and 10th grade</td>\n",
       "      <td>3</td>\n",
       "      <td>5</td>\n",
       "      <td>5.6</td>\n",
       "      <td>9.9</td>\n",
       "      <td>1.20</td>\n",
       "    </tr>\n",
       "    <tr>\n",
       "      <th>370</th>\n",
       "      <td>Downloaded 8/7/2013 2:24 PM.</td>\n",
       "      <td>7th and 8th grade</td>\n",
       "      <td>4</td>\n",
       "      <td>6</td>\n",
       "      <td>3.7</td>\n",
       "      <td>10.0</td>\n",
       "      <td>11.60</td>\n",
       "    </tr>\n",
       "    <tr>\n",
       "      <th>371</th>\n",
       "      <td>Single user license only.</td>\n",
       "      <td>11th and 12th grade</td>\n",
       "      <td>4</td>\n",
       "      <td>8</td>\n",
       "      <td>9.6</td>\n",
       "      <td>6.5</td>\n",
       "      <td>1.60</td>\n",
       "    </tr>\n",
       "    <tr>\n",
       "      <th>372</th>\n",
       "      <td>Copying and networking prohibited.</td>\n",
       "      <td>15th and 16th grade</td>\n",
       "      <td>4</td>\n",
       "      <td>10</td>\n",
       "      <td>15.5</td>\n",
       "      <td>17.1</td>\n",
       "      <td>21.60</td>\n",
       "    </tr>\n",
       "  </tbody>\n",
       "</table>\n",
       "<p>373 rows × 7 columns</p>\n",
       "</div>"
      ],
      "text/plain": [
       "                                              sentence        overall_score  \\\n",
       "0    INTERNATIONAL STANDARDISO20140-1First edition2...   -1th and 0th grade   \n",
       "1                                ANSI order DA_330766.   9th and 10th grade   \n",
       "2                         Downloaded 8/7/2013 2:24 PM.    7th and 8th grade   \n",
       "3                            Single user license only.  11th and 12th grade   \n",
       "4    Copying and networking prohibited.© ISO 2013Re...  13th and 14th grade   \n",
       "..                                                 ...                  ...   \n",
       "368  ISO 20140-1:2013(E) ICS 25.040.01Price based o...    4th and 5th grade   \n",
       "369                              ANSI order DA_330766.   9th and 10th grade   \n",
       "370                       Downloaded 8/7/2013 2:24 PM.    7th and 8th grade   \n",
       "371                          Single user license only.  11th and 12th grade   \n",
       "372                 Copying and networking prohibited.  15th and 16th grade   \n",
       "\n",
       "     num_words  num_syllab  FK_score  ari_score  fog_score  \n",
       "0           53         123      32.2       41.5      35.54  \n",
       "1            3           5       5.6        9.9       1.20  \n",
       "2            4           6       3.7       10.0      11.60  \n",
       "3            4           8       9.6        6.5       1.60  \n",
       "4           17          33      13.5       26.7      18.56  \n",
       "..         ...         ...       ...        ...        ...  \n",
       "368         18          20       4.4       13.8       9.42  \n",
       "369          3           5       5.6        9.9       1.20  \n",
       "370          4           6       3.7       10.0      11.60  \n",
       "371          4           8       9.6        6.5       1.60  \n",
       "372          4          10      15.5       17.1      21.60  \n",
       "\n",
       "[373 rows x 7 columns]"
      ]
     },
     "execution_count": 139,
     "metadata": {},
     "output_type": "execute_result"
    }
   ],
   "source": [
    "# This will print the dataframe so you can check \n",
    "df2"
   ]
  },
  {
   "cell_type": "code",
   "execution_count": 141,
   "metadata": {},
   "outputs": [],
   "source": [
    "# This will save the outputted dataframe to an excel file called 'output.xlsx'\n",
    "with pd.ExcelWriter('output.xlsx') as writer: \n",
    "    df2.to_excel(writer, sheet_name = 'test')"
   ]
  },
  {
   "cell_type": "code",
   "execution_count": 4,
   "metadata": {},
   "outputs": [
    {
     "name": "stdout",
     "output_type": "stream",
     "text": [
      "Enter the sentence you want to check : This is a test sentence. \n",
      "The Flesch Reading Grade score:  2.9\n",
      "The Flesch Reading Ease score:  83.32\n"
     ]
    }
   ],
   "source": [
    "# This will allow you to enter a new sentence to check the scores. It only checks Flesch scores for simplicity. \n",
    "sent_input = input(\"Enter the sentence you want to check : \") \n",
    "print(\"The Flesch Reading Grade score: \",tx.flesch_kincaid_grade(sent_input))\n",
    "print(\"The Flesch Reading Ease score: \",tx.flesch_reading_ease(sent_input))"
   ]
  },
  {
   "cell_type": "code",
   "execution_count": null,
   "metadata": {},
   "outputs": [],
   "source": []
  }
 ],
 "metadata": {
  "kernelspec": {
   "display_name": "Python [conda env:eclipse] *",
   "language": "python",
   "name": "conda-env-eclipse-py"
  },
  "language_info": {
   "codemirror_mode": {
    "name": "ipython",
    "version": 3
   },
   "file_extension": ".py",
   "mimetype": "text/x-python",
   "name": "python",
   "nbconvert_exporter": "python",
   "pygments_lexer": "ipython3",
   "version": "3.8.1"
  }
 },
 "nbformat": 4,
 "nbformat_minor": 4
}
